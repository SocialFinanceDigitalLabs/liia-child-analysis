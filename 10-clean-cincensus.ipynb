{
 "cells": [
  {
   "cell_type": "markdown",
   "metadata": {},
   "source": [
    "# 10-clean-cincensus\n",
    "This notebook goes through the CIN Census files and cleans them. Cleaning includes:\n",
    "- TBD 1\n",
    "- TBD 2\n"
   ]
  },
  {
   "cell_type": "code",
   "execution_count": 1,
   "metadata": {},
   "outputs": [],
   "source": [
    "import yaml\n",
    "import os\n",
    "import glob\n",
    "from wrangling.cincensus.cincleaner import cleanfiles\n",
    "\n",
    "%run \"00-config.ipynb\"\n",
    "%load_ext autoreload\n",
    "%autoreload 2"
   ]
  },
  {
   "cell_type": "markdown",
   "metadata": {},
   "source": [
    "### Config"
   ]
  },
  {
   "cell_type": "markdown",
   "metadata": {},
   "source": [
    "Things to improve: \n",
    "- Include option to go through one LA only as we receive the data progressively (that's what we have for the flatfile)\n",
    "- Find a way to pretty print the cleaned xml files\n",
    "- Should we have some kind of report that outlines the changes made to each file?\n",
    "- We should add deprecation steps and tests to make sure the CIN files are aligned to what we're saying in the contract"
   ]
  },
  {
   "cell_type": "code",
   "execution_count": 2,
   "metadata": {},
   "outputs": [],
   "source": [
    "# Config file\n",
    "with open('wrangling/config/cin_datamap.yaml') as FILE:\n",
    "    config = yaml.load(FILE, Loader=yaml.FullLoader)"
   ]
  },
  {
   "cell_type": "markdown",
   "metadata": {},
   "source": [
    "### Run programme"
   ]
  },
  {
   "cell_type": "code",
   "execution_count": 3,
   "metadata": {},
   "outputs": [
    {
     "name": "stdout",
     "output_type": "stream",
     "text": [
      "Found 4 XML files for Waltham Forest\n",
      "File 1 out of 4\n",
      "Cleaning\n",
      "Re-writing\n",
      "File 2 out of 4\n",
      "Cleaning\n",
      "Re-writing\n",
      "File 3 out of 4\n",
      "Cleaning\n",
      "Re-writing\n",
      "File 4 out of 4\n",
      "Cleaning\n",
      "Re-writing\n"
     ]
    }
   ],
   "source": [
    "cleanfiles(cin_received, cin_cleaned, config)"
   ]
  }
 ],
 "metadata": {
  "kernelspec": {
   "display_name": "Python 3",
   "language": "python",
   "name": "python3"
  },
  "language_info": {
   "codemirror_mode": {
    "name": "ipython",
    "version": 3
   },
   "file_extension": ".py",
   "mimetype": "text/x-python",
   "name": "python",
   "nbconvert_exporter": "python",
   "pygments_lexer": "ipython3",
   "version": "3.8.5"
  }
 },
 "nbformat": 4,
 "nbformat_minor": 2
}
