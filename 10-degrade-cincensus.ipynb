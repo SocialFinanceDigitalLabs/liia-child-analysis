{
 "cells": [
  {
   "cell_type": "markdown",
   "metadata": {},
   "source": [
    "# 10-clean-cincensus\n",
    "\n",
    "This notebook goes through the CIN Census files and degrades some data fields if they have not been degraded by the sending LA.\n",
    "Degrading includes:\n",
    "- Transforming the date of birth into year of birth\n",
    "\n",
    "'Degraded' CIN files are saved on the 'degraded' folder, alongside a text file recapping how many degradations were done for each file."
   ]
  },
  {
   "cell_type": "code",
   "execution_count": 7,
   "metadata": {},
   "outputs": [
    {
     "name": "stdout",
     "output_type": "stream",
     "text": [
      "The autoreload extension is already loaded. To reload it, use:\n",
      "  %reload_ext autoreload\n"
     ]
    }
   ],
   "source": [
    "import os\n",
    "import glob\n",
    "from wrangling.cincensus.cindegrader import degradefiles\n",
    "\n",
    "%run \"00-config.ipynb\"\n",
    "%load_ext autoreload\n",
    "%autoreload 2"
   ]
  },
  {
   "cell_type": "markdown",
   "metadata": {},
   "source": [
    "## Config"
   ]
  },
  {
   "cell_type": "markdown",
   "metadata": {},
   "source": [
    "#### Define Local Authority"
   ]
  },
  {
   "cell_type": "code",
   "execution_count": null,
   "metadata": {},
   "outputs": [],
   "source": [
    "localauthority = 'Waltham Forest' # Write name of LA - this must match the folder name"
   ]
  },
  {
   "cell_type": "code",
   "execution_count": 5,
   "metadata": {},
   "outputs": [
    {
     "name": "stdout",
     "output_type": "stream",
     "text": [
      "Found 4 clean CIN files for Waltham Forest\n"
     ]
    }
   ],
   "source": [
    "# Check there are CIN files in this folder\n",
    "cin_files = glob.glob(os.path.join(cin_received, localauthority, \"*.xml\"))\n",
    "if len(cin_files)>0:\n",
    "    print(\"Found {} CIN files for {}\".format(len(cin_files), localauthority))\n",
    "else:\n",
    "    print(\"!!! No CIN files for {}\".format(localauthority))"
   ]
  },
  {
   "cell_type": "markdown",
   "metadata": {},
   "source": [
    "## Run degradation"
   ]
  },
  {
   "cell_type": "code",
   "execution_count": 9,
   "metadata": {},
   "outputs": [
    {
     "name": "stdout",
     "output_type": "stream",
     "text": [
      "File 1 out of 4\n",
      "5450 PersonBirthDate events were found, of which 0 were degraded to year of birth\n",
      "Re-writing\n",
      "File 2 out of 4\n"
     ]
    },
    {
     "ename": "XMLSyntaxError",
     "evalue": "EndTag: '</' not found, line 24883, column 10 (file:/O:/LIIA%20Data%20Project/data/cincensus/received/Waltham%20Forest/Blade-Export_17-09-2019.xml, line 24883)",
     "output_type": "error",
     "traceback": [
      "Traceback \u001b[1;36m(most recent call last)\u001b[0m:\n",
      "  File \u001b[0;32m\"C:\\ProgramData\\Anaconda3\\lib\\site-packages\\IPython\\core\\interactiveshell.py\"\u001b[0m, line \u001b[0;32m3418\u001b[0m, in \u001b[0;35mrun_code\u001b[0m\n    exec(code_obj, self.user_global_ns, self.user_ns)\n",
      "  File \u001b[0;32m\"<ipython-input-9-149096c31f50>\"\u001b[0m, line \u001b[0;32m1\u001b[0m, in \u001b[0;35m<module>\u001b[0m\n    degradefiles(cin_files, cin_degraded)\n",
      "  File \u001b[0;32m\"C:\\Users\\CGross\\OneDrive - London Borough of Waltham Forest\\Documents\\liia-child-analysis\\wrangling\\cincensus\\cindegrader.py\"\u001b[0m, line \u001b[0;32m27\u001b[0m, in \u001b[0;35mdegradefiles\u001b[0m\n    tree = etree.parse(file)\n",
      "  File \u001b[0;32m\"src/lxml/etree.pyx\"\u001b[0m, line \u001b[0;32m3521\u001b[0m, in \u001b[0;35mlxml.etree.parse\u001b[0m\n",
      "  File \u001b[0;32m\"src/lxml/parser.pxi\"\u001b[0m, line \u001b[0;32m1859\u001b[0m, in \u001b[0;35mlxml.etree._parseDocument\u001b[0m\n",
      "  File \u001b[0;32m\"src/lxml/parser.pxi\"\u001b[0m, line \u001b[0;32m1885\u001b[0m, in \u001b[0;35mlxml.etree._parseDocumentFromURL\u001b[0m\n",
      "  File \u001b[0;32m\"src/lxml/parser.pxi\"\u001b[0m, line \u001b[0;32m1789\u001b[0m, in \u001b[0;35mlxml.etree._parseDocFromFile\u001b[0m\n",
      "  File \u001b[0;32m\"src/lxml/parser.pxi\"\u001b[0m, line \u001b[0;32m1177\u001b[0m, in \u001b[0;35mlxml.etree._BaseParser._parseDocFromFile\u001b[0m\n",
      "  File \u001b[0;32m\"src/lxml/parser.pxi\"\u001b[0m, line \u001b[0;32m615\u001b[0m, in \u001b[0;35mlxml.etree._ParserContext._handleParseResultDoc\u001b[0m\n",
      "  File \u001b[0;32m\"src/lxml/parser.pxi\"\u001b[0m, line \u001b[0;32m725\u001b[0m, in \u001b[0;35mlxml.etree._handleParseResult\u001b[0m\n",
      "\u001b[1;36m  File \u001b[1;32m\"src/lxml/parser.pxi\"\u001b[1;36m, line \u001b[1;32m654\u001b[1;36m, in \u001b[1;35mlxml.etree._raiseParseError\u001b[1;36m\u001b[0m\n",
      "\u001b[1;36m  File \u001b[1;32m\"file:/O:/LIIA%20Data%20Project/data/cincensus/received/Waltham%20Forest/Blade-Export_17-09-2019.xml\"\u001b[1;36m, line \u001b[1;32m24883\u001b[0m\n\u001b[1;31mXMLSyntaxError\u001b[0m\u001b[1;31m:\u001b[0m EndTag: '</' not found, line 24883, column 10\n"
     ]
    }
   ],
   "source": [
    "degradefiles(cin_files, cin_degraded)"
   ]
  },
  {
   "cell_type": "markdown",
   "metadata": {},
   "source": [
    "CHECK THIS WORKS once we get the right data files"
   ]
  },
  {
   "cell_type": "code",
   "execution_count": null,
   "metadata": {},
   "outputs": [],
   "source": []
  }
 ],
 "metadata": {
  "kernelspec": {
   "display_name": "Python 3",
   "language": "python",
   "name": "python3"
  },
  "language_info": {
   "codemirror_mode": {
    "name": "ipython",
    "version": 3
   },
   "file_extension": ".py",
   "mimetype": "text/x-python",
   "name": "python",
   "nbconvert_exporter": "python",
   "pygments_lexer": "ipython3",
   "version": "3.8.5"
  }
 },
 "nbformat": 4,
 "nbformat_minor": 4
}
