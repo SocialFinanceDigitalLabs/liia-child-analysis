{
 "cells": [
  {
   "cell_type": "markdown",
   "metadata": {},
   "source": [
    "# 10-degrade-cincensus\n",
    "\n",
    "This notebook goes through the CIN Census files and degrades some data fields if they have not been degraded by the sending LA.\n",
    "Degrading includes:\n",
    "- Transforming the date of birth into year of birth\n",
    "- Tranformating the date of birth into school year\n",
    "\n",
    "'Degraded' CIN files are saved on the 'degraded' folder, alongside a text file recapping how many degradations were done for each file."
   ]
  },
  {
   "cell_type": "markdown",
   "metadata": {},
   "source": [
    "Missing:\n",
    "- Checking that, if the date of birth was degraded, the school year was correctly added\n",
    "- Writing up a definition of what's required to do in the data request."
   ]
  },
  {
   "cell_type": "code",
   "execution_count": 1,
   "metadata": {},
   "outputs": [
    {
     "name": "stdout",
     "output_type": "stream",
     "text": [
      "<class 'str'>\n"
     ]
    }
   ],
   "source": [
    "import os\n",
    "import glob\n",
    "from wrangling.cincensus.cindegrader import degradefiles\n",
    "\n",
    "%run \"00-config.ipynb\"\n",
    "%load_ext autoreload\n",
    "%autoreload 2"
   ]
  },
  {
   "cell_type": "markdown",
   "metadata": {},
   "source": [
    "## Config"
   ]
  },
  {
   "cell_type": "markdown",
   "metadata": {},
   "source": [
    "#### Define Local Authority"
   ]
  },
  {
   "cell_type": "code",
   "execution_count": 2,
   "metadata": {},
   "outputs": [],
   "source": [
    "localauthority = 'Waltham Forest' # Write name of LA - this must match the folder name"
   ]
  },
  {
   "cell_type": "code",
   "execution_count": 3,
   "metadata": {},
   "outputs": [
    {
     "name": "stdout",
     "output_type": "stream",
     "text": [
      "Found 4 CIN files for Waltham Forest in folder O:\\LIIA Data Project\\data\\cincensus\\received\n"
     ]
    }
   ],
   "source": [
    "# Check there are CIN files in this folder\n",
    "\n",
    "cin_files = glob.glob(os.path.join(cin_received, localauthority, \"*.xml\"))\n",
    "if len(cin_files)>0:\n",
    "    print(\"Found {} CIN files for {} in folder {}\".format(len(cin_files), localauthority, cin_received))\n",
    "else:\n",
    "    print(\"!!! No CIN files for {}\".format(localauthority))"
   ]
  },
  {
   "cell_type": "code",
   "execution_count": 4,
   "metadata": {},
   "outputs": [
    {
     "data": {
      "text/plain": [
       "['O:\\\\LIIA Data Project\\\\data\\\\cincensus\\\\received\\\\Waltham Forest\\\\Blade-Export_11-09-2020.xml',\n",
       " 'O:\\\\LIIA Data Project\\\\data\\\\cincensus\\\\received\\\\Waltham Forest\\\\Blade-Export_17-09-2019.xml',\n",
       " 'O:\\\\LIIA Data Project\\\\data\\\\cincensus\\\\received\\\\Waltham Forest\\\\CINReturn 26.07.17.xml',\n",
       " 'O:\\\\LIIA Data Project\\\\data\\\\cincensus\\\\received\\\\Waltham Forest\\\\KI_CINreturn 24.07.18.xml']"
      ]
     },
     "execution_count": 4,
     "metadata": {},
     "output_type": "execute_result"
    }
   ],
   "source": [
    "cin_files"
   ]
  },
  {
   "cell_type": "markdown",
   "metadata": {},
   "source": [
    "## Run degradation"
   ]
  },
  {
   "cell_type": "code",
   "execution_count": 6,
   "metadata": {},
   "outputs": [
    {
     "name": "stdout",
     "output_type": "stream",
     "text": [
      "File 1 out of 4\n",
      "5450 PersonBirthDate events were found, of which 5450 were degraded to year of birth and school year\n",
      "Re-writing\n",
      "File 2 out of 4\n",
      "4892 PersonBirthDate events were found, of which 10342 were degraded to year of birth and school year\n",
      "Re-writing\n",
      "File 3 out of 4\n",
      "5540 PersonBirthDate events were found, of which 15882 were degraded to year of birth and school year\n",
      "Re-writing\n",
      "File 4 out of 4\n",
      "5337 PersonBirthDate events were found, of which 21219 were degraded to year of birth and school year\n",
      "Re-writing\n",
      "Done\n"
     ]
    }
   ],
   "source": [
    "degradefiles(cin_files, cin_degraded)"
   ]
  },
  {
   "cell_type": "code",
   "execution_count": null,
   "metadata": {},
   "outputs": [],
   "source": []
  }
 ],
 "metadata": {
  "kernelspec": {
   "display_name": "Python 3",
   "language": "python",
   "name": "python3"
  },
  "language_info": {
   "codemirror_mode": {
    "name": "ipython",
    "version": 3
   },
   "file_extension": ".py",
   "mimetype": "text/x-python",
   "name": "python",
   "nbconvert_exporter": "python",
   "pygments_lexer": "ipython3",
   "version": "3.8.5"
  }
 },
 "nbformat": 4,
 "nbformat_minor": 4
}
