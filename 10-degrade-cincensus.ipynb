{
 "cells": [
  {
   "cell_type": "markdown",
   "metadata": {},
   "source": [
    "# 10-degrade-cincensus\n",
    "\n",
    "This notebook goes through the CIN Census files and degrades some data fields if they have not been degraded by the sending LA.\n",
    "Degrading includes:\n",
    "- Transforming the date of birth into year of birth\n",
    "- Tranformating the date of birth into school year\n",
    "\n",
    "'Degraded' CIN files are saved on the 'degraded' folder, alongside a text file recapping how many degradations were done for each file."
   ]
  },
  {
   "cell_type": "markdown",
   "metadata": {},
   "source": [
    "Missing:\n",
    "- Checking that, if the date of birth was degraded, the school year was correctly added\n",
    "- Writing up a definition of what's required to do in the data request."
   ]
  },
  {
   "cell_type": "code",
   "execution_count": null,
   "metadata": {},
   "outputs": [],
   "source": [
    "import os\n",
    "import glob\n",
    "from wrangling.cincensus.cindegrader import degradefiles\n",
    "\n",
    "%run \"00-config.ipynb\"\n",
    "%load_ext autoreload\n",
    "%autoreload 2"
   ]
  },
  {
   "cell_type": "markdown",
   "metadata": {},
   "source": [
    "## Config"
   ]
  },
  {
   "cell_type": "markdown",
   "metadata": {},
   "source": [
    "#### Define Local Authority"
   ]
  },
  {
   "cell_type": "code",
   "execution_count": null,
   "metadata": {},
   "outputs": [],
   "source": [
    "localauthority = 'Waltham Forest' # Write name of LA - this must match the folder name"
   ]
  },
  {
   "cell_type": "markdown",
   "metadata": {},
   "source": [
    "#### Define input and output folder"
   ]
  },
  {
   "cell_type": "code",
   "execution_count": null,
   "metadata": {},
   "outputs": [],
   "source": [
    "input_folder = os.path.join(cin_received, localauthority)\n",
    "output_folder = cin_degraded\n",
    "\n",
    "print(\"Input folder: {} \\nOutput folder: {}\".format(input_folder, output_folder))"
   ]
  },
  {
   "cell_type": "markdown",
   "metadata": {},
   "source": [
    "## Run degradation"
   ]
  },
  {
   "cell_type": "code",
   "execution_count": null,
   "metadata": {},
   "outputs": [],
   "source": [
    "# Check there are CIN files in the input folder\n",
    "\n",
    "cin_files = glob.glob(os.path.join(input_folder, \"*.xml\"))\n",
    "print(\"Found {} CIN files in folder {}\".format(len(cin_files), input_folder))"
   ]
  },
  {
   "cell_type": "code",
   "execution_count": null,
   "metadata": {},
   "outputs": [],
   "source": [
    "# Run function\n",
    "\n",
    "degradefiles(cin_files, output_folder)"
   ]
  }
 ],
 "metadata": {
  "kernelspec": {
   "display_name": "Python 3",
   "language": "python",
   "name": "python3"
  },
  "language_info": {
   "codemirror_mode": {
    "name": "ipython",
    "version": 3
   },
   "file_extension": ".py",
   "mimetype": "text/x-python",
   "name": "python",
   "nbconvert_exporter": "python",
   "pygments_lexer": "ipython3",
   "version": "3.8.5"
  }
 },
 "nbformat": 4,
 "nbformat_minor": 4
}
