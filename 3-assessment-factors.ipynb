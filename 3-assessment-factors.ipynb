{
 "cells": [
  {
   "cell_type": "markdown",
   "metadata": {},
   "source": [
    "# 3-assessment-factors\n",
    "This notebook prepares the dataset for the assessment factors analysis: showing volume of assessments with certain factors, across London.\n",
    "\n",
    "Input: main flatfile containing the CIN information from all LAs\n",
    "\n",
    "Output: table with\n",
    "- All the Assessment authorised information\n",
    "- One column per factor, with 1 = factor identified at assessment, 0 = factor not identified"
   ]
  },
  {
   "cell_type": "code",
   "execution_count": null,
   "metadata": {},
   "outputs": [],
   "source": [
    "import os\n",
    "import pandas as pd\n",
    "\n",
    "%run \"00-config.ipynb\"\n",
    "%load_ext autoreload\n",
    "%autoreload 2"
   ]
  },
  {
   "cell_type": "markdown",
   "metadata": {},
   "source": [
    "### Define filepaths"
   ]
  },
  {
   "cell_type": "code",
   "execution_count": null,
   "metadata": {},
   "outputs": [],
   "source": [
    "input_file = os.path.join(flatfile_folder, 'main_flatcin.csv')\n",
    "output_file = os.path.join(output_folder, 'assessments.csv')"
   ]
  },
  {
   "cell_type": "markdown",
   "metadata": {},
   "source": [
    "### Data wrangling"
   ]
  },
  {
   "cell_type": "code",
   "execution_count": null,
   "metadata": {},
   "outputs": [],
   "source": [
    "# Load flatfile\n",
    "df = pd.read_csv(input_file)\n",
    "\n",
    "# Only keep assessment authorised\n",
    "df = df[df.Type == 'AssessmentAuthorisationDate']\n",
    "\n",
    "# Remove empty columns to get smaller dataset\n",
    "df.dropna(axis=1, how='all', inplace=True)"
   ]
  },
  {
   "cell_type": "code",
   "execution_count": null,
   "metadata": {},
   "outputs": [],
   "source": [
    "# Split unique factors column into a column with each factor, with either 0 or 1\n",
    "factor_cols = df.Factors.str.split(',', expand=True).stack().str.get_dummies().sum(level=0)\n",
    "\n",
    "# Check all values are either 0 or 1 - needs to return True\n",
    "print(factor_cols.isin([0,1]).all().all())\n",
    "\n",
    "factor_cols.head()"
   ]
  },
  {
   "cell_type": "code",
   "execution_count": null,
   "metadata": {},
   "outputs": [],
   "source": [
    "# Merge back to main df\n",
    "\n",
    "df = pd.concat([df, factor_cols], axis=1)"
   ]
  },
  {
   "cell_type": "code",
   "execution_count": null,
   "metadata": {},
   "outputs": [],
   "source": [
    "# Save\n",
    "df.to_csv(output_file, index=False)"
   ]
  }
 ],
 "metadata": {
  "kernelspec": {
   "display_name": "Python 3",
   "language": "python",
   "name": "python3"
  },
  "language_info": {
   "codemirror_mode": {
    "name": "ipython",
    "version": 3
   },
   "file_extension": ".py",
   "mimetype": "text/x-python",
   "name": "python",
   "nbconvert_exporter": "python",
   "pygments_lexer": "ipython3",
   "version": "3.8.8"
  }
 },
 "nbformat": 4,
 "nbformat_minor": 4
}
