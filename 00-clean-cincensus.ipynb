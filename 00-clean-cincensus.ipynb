{
 "cells": [
  {
   "cell_type": "markdown",
   "metadata": {},
   "source": [
    "# 40-CINCLEAN"
   ]
  },
  {
   "cell_type": "code",
   "execution_count": null,
   "metadata": {},
   "outputs": [],
   "source": [
    "import yaml\n",
    "import os\n",
    "import glob\n",
    "from wrangling.cincensus.cincleaner import cleanfiles"
   ]
  },
  {
   "cell_type": "markdown",
   "metadata": {},
   "source": [
    "### Config"
   ]
  },
  {
   "cell_type": "markdown",
   "metadata": {},
   "source": [
    "Note to self: \n",
    "- Should we manually go through each LA's folder, or should we do all of them at once?\n",
    "- Should we have some kind of report that outlines the changes made to each file?\n",
    "- We should add deprecation steps and tests to make sure the CIN files are aligned to what we're saying in the contract"
   ]
  },
  {
   "cell_type": "code",
   "execution_count": null,
   "metadata": {},
   "outputs": [],
   "source": [
    "# CIN data\n",
    "cin_folder = 'C:/Users/celine.gross/Social Finance Ltd/CS Front Door Data Collaboration - West Berkshire/inputs/original/cin' # Folder in which you stored the CIN Census file(s)\n",
    "cin_files = glob.glob(os.path.join(cin_folder, \"*.xml\"))\n",
    "\n",
    "# Output folder\n",
    "output_folder = 'C:/Users/celine.gross/Social Finance Ltd/CS Front Door Data Collaboration - West Berkshire/outputs/personal_data/clean_cin' # Folder in which the clean CIN Census file(s) will get downloaded\n",
    "if not os.path.exists(output_folder):\n",
    "    os.makedirs(output_folder)\n",
    "\n",
    "# Config file\n",
    "with open('config/cin_datamap.yaml') as FILE:\n",
    "    config = yaml.load(FILE, Loader=yaml.FullLoader)"
   ]
  },
  {
   "cell_type": "markdown",
   "metadata": {},
   "source": [
    "### Run programme"
   ]
  },
  {
   "cell_type": "code",
   "execution_count": null,
   "metadata": {},
   "outputs": [],
   "source": [
    "cleanfiles(cin_folder, output_folder, config)"
   ]
  },
  {
   "cell_type": "code",
   "execution_count": null,
   "metadata": {},
   "outputs": [],
   "source": []
  }
 ],
 "metadata": {
  "kernelspec": {
   "display_name": "Python 3",
   "language": "python",
   "name": "python3"
  },
  "language_info": {
   "codemirror_mode": {
    "name": "ipython",
    "version": 3
   },
   "file_extension": ".py",
   "mimetype": "text/x-python",
   "name": "python",
   "nbconvert_exporter": "python",
   "pygments_lexer": "ipython3",
   "version": "3.7.0"
  }
 },
 "nbformat": 4,
 "nbformat_minor": 2
}
