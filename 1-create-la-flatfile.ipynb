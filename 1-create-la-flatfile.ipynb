{
 "cells": [
  {
   "cell_type": "markdown",
   "metadata": {},
   "source": [
    "# 1-create-la-flatfile\n",
    "\n",
    "This notebook goes through the CIN Census files stored in cin_received (filepath defined in 00-config) and conducts the following steps:\n",
    "- Degrades date of birth into year of birth and school year\n",
    "- Cleans the CIN Census files (light touch - checks for empty tags, date in improper format, etc)\n",
    "- Creates a flat CSV file containing all CIN events for the LA (one row per date event - referral, CIN start, CIN end, etc. - with demographic info and a few relevant info to the event) - this means that there are a LOT of columns."
   ]
  },
  {
   "cell_type": "code",
   "execution_count": 11,
   "metadata": {},
   "outputs": [
    {
     "name": "stdout",
     "output_type": "stream",
     "text": [
      "The autoreload extension is already loaded. To reload it, use:\n",
      "  %reload_ext autoreload\n"
     ]
    }
   ],
   "source": [
    "import glob\n",
    "import os\n",
    "import yaml\n",
    "from wrangling.cincensus.main import main\n",
    "\n",
    "%run \"00-config.ipynb\"\n",
    "%load_ext autoreload\n",
    "%autoreload 2"
   ]
  },
  {
   "cell_type": "markdown",
   "metadata": {},
   "source": [
    "### Config"
   ]
  },
  {
   "cell_type": "code",
   "execution_count": 12,
   "metadata": {},
   "outputs": [],
   "source": [
    "localauthority = 'Wandsworth' # Write name of LA - this must match the folder name"
   ]
  },
  {
   "cell_type": "markdown",
   "metadata": {},
   "source": [
    "#### Define input and output folder"
   ]
  },
  {
   "cell_type": "code",
   "execution_count": 13,
   "metadata": {},
   "outputs": [
    {
     "name": "stdout",
     "output_type": "stream",
     "text": [
      "Input folder: C:\\Users\\CGross\\Desktop\\cin-census-testing\\cincensus\\Wandsworth \n",
      "Output folder: C:\\Users\\CGross\\Desktop\\cin-census-testing\\flatfiles\n"
     ]
    }
   ],
   "source": [
    "input_folder = os.path.join(cin_folder, localauthority)\n",
    "output_folder = flatfile_folder\n",
    "\n",
    "print(\"Input folder: {} \\nOutput folder: {}\".format(input_folder, output_folder))"
   ]
  },
  {
   "cell_type": "code",
   "execution_count": 14,
   "metadata": {},
   "outputs": [],
   "source": [
    "# Config file\n",
    "with open('wrangling/config/cin_datamap.yaml') as FILE:\n",
    "    config = yaml.load(FILE, Loader=yaml.FullLoader)"
   ]
  },
  {
   "cell_type": "markdown",
   "metadata": {},
   "source": [
    "### 1. Run programme (takes a few minutes depending on quantity of data)"
   ]
  },
  {
   "cell_type": "code",
   "execution_count": 25,
   "metadata": {},
   "outputs": [
    {
     "name": "stdout",
     "output_type": "stream",
     "text": [
      "Found 1 CIN files in folder C:\\Users\\CGross\\Desktop\\cin-census-testing\\cincensus\\Wandsworth\n",
      "File 1 out of 1\n",
      "--- Degrade file 1\n",
      "5338 PersonBirthDate events were found, of which 5338 were degraded to year of birth and school year\n",
      "--- Clean file 1\n",
      "--- Create CIN flatfile\n",
      "Extracting data from file 1 out of 1 from CIN Census\n",
      "Done!\n"
     ]
    }
   ],
   "source": [
    "main(input_folder, output_folder, config)"
   ]
  }
 ],
 "metadata": {
  "kernelspec": {
   "display_name": "Python 3",
   "language": "python",
   "name": "python3"
  },
  "language_info": {
   "codemirror_mode": {
    "name": "ipython",
    "version": 3
   },
   "file_extension": ".py",
   "mimetype": "text/x-python",
   "name": "python",
   "nbconvert_exporter": "python",
   "pygments_lexer": "ipython3",
   "version": "3.8.8"
  }
 },
 "nbformat": 4,
 "nbformat_minor": 2
}
