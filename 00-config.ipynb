{
 "cells": [
  {
   "cell_type": "markdown",
   "metadata": {},
   "source": [
    "# Config\n",
    "This notebook is the place to save filepaths and settings, to make the rest of the code simpler."
   ]
  },
  {
   "cell_type": "code",
   "execution_count": 1,
   "metadata": {},
   "outputs": [],
   "source": [
    "import os\n",
    "import pandas as pd"
   ]
  },
  {
   "cell_type": "code",
   "execution_count": 2,
   "metadata": {},
   "outputs": [],
   "source": [
    "# Define filepaths\n",
    "main_folder = r'C:\\Users\\CGross\\Desktop\\cin-census-testing'\n",
    "#main_folder = r'O:\\LIIA Data Project\\data' --> change back when ready\n",
    "\n",
    "# CIN Census\n",
    "cin_folder = os.path.join(main_folder, 'cincensus')\n",
    "cin_received = os.path.join(cin_folder, 'received')\n",
    "cin_degraded = os.path.join(cin_folder, 'degraded')\n",
    "cin_cleaned = os.path.join(cin_folder, 'cleaned')\n",
    "\n",
    "# Flat files\n",
    "flatfile_folder = os.path.join(main_folder, 'flatfiles')\n",
    "\n",
    "# Outputs\n",
    "output_folder = os.path.join(main_folder, 'outputs')"
   ]
  },
  {
   "cell_type": "code",
   "execution_count": 3,
   "metadata": {},
   "outputs": [],
   "source": [
    "# Pandas - we want to see all the columns\n",
    "pd.set_option('display.max_columns', None)"
   ]
  },
  {
   "cell_type": "code",
   "execution_count": 4,
   "metadata": {},
   "outputs": [],
   "source": [
    "# End of CIN Census (to calculate whether event is too recent to deduce outcome)\n",
    "cin_census_close = pd.Timestamp(year=2020, month=3, day=31)"
   ]
  }
 ],
 "metadata": {
  "kernelspec": {
   "display_name": "Python 3",
   "language": "python",
   "name": "python3"
  },
  "language_info": {
   "codemirror_mode": {
    "name": "ipython",
    "version": 3
   },
   "file_extension": ".py",
   "mimetype": "text/x-python",
   "name": "python",
   "nbconvert_exporter": "python",
   "pygments_lexer": "ipython3",
   "version": "3.8.8"
  }
 },
 "nbformat": 4,
 "nbformat_minor": 4
}
