{
 "cells": [
  {
   "cell_type": "markdown",
   "metadata": {},
   "source": [
    "# Config\n",
    "This notebook is the place to save filepaths and settings, to make the rest of the code simpler."
   ]
  },
  {
   "cell_type": "code",
   "execution_count": 3,
   "metadata": {},
   "outputs": [],
   "source": [
    "import os\n",
    "import pandas as pd"
   ]
  },
  {
   "cell_type": "code",
   "execution_count": 6,
   "metadata": {},
   "outputs": [],
   "source": [
    "# Define filepaths\n",
    "\n",
    "# CIN Census\n",
    "cin_folder = r'O:\\LIIA Data Project\\data\\cincensus'\n",
    "cin_received = os.path.join(cin_folder, 'received')\n",
    "cin_cleaned = os.path.join(cin_folder, 'cleaned')\n",
    "\n",
    "# Flat files\n",
    "flatfile_folder = r'O:\\LIIA Data Project\\data\\flatfiles'\n",
    "\n",
    "# Outputs\n",
    "output_folder = r'O:\\LIIA Data Project\\data\\outputs'"
   ]
  },
  {
   "cell_type": "code",
   "execution_count": 6,
   "metadata": {},
   "outputs": [],
   "source": [
    "# Pandas - we want to see all the columns\n",
    "pd.set_option('display.max_columns', None)"
   ]
  }
 ],
 "metadata": {
  "kernelspec": {
   "display_name": "Python 3",
   "language": "python",
   "name": "python3"
  },
  "language_info": {
   "codemirror_mode": {
    "name": "ipython",
    "version": 3
   },
   "file_extension": ".py",
   "mimetype": "text/x-python",
   "name": "python",
   "nbconvert_exporter": "python",
   "pygments_lexer": "ipython3",
   "version": "3.8.5"
  }
 },
 "nbformat": 4,
 "nbformat_minor": 4
}
