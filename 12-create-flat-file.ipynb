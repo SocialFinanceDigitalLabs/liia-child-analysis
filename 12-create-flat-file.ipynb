{
 "cells": [
  {
   "cell_type": "markdown",
   "metadata": {},
   "source": [
    "# 12-create-flat-file\n",
    "This notebook takes all the cleaned CIN Census and merges them into a unique excel csv where each row is a date event (referral, CIN start, CIN end, etc.) with demographics info and a few relevant info to the event.\n",
    "This means that there are a LOT of columns, potentially."
   ]
  },
  {
   "cell_type": "code",
   "execution_count": 2,
   "metadata": {},
   "outputs": [
    {
     "name": "stdout",
     "output_type": "stream",
     "text": [
      "<class 'str'>\n"
     ]
    }
   ],
   "source": [
    "import glob\n",
    "import os\n",
    "import yaml\n",
    "from wrangling.log.cin_log import build_cinrecord\n",
    "\n",
    "%run \"00-config.ipynb\"\n",
    "%load_ext autoreload\n",
    "%autoreload 2"
   ]
  },
  {
   "cell_type": "markdown",
   "metadata": {},
   "source": [
    "### Config"
   ]
  },
  {
   "cell_type": "code",
   "execution_count": 3,
   "metadata": {},
   "outputs": [],
   "source": [
    "localauthority = 'Waltham Forest' # Write name of LA - this must match the folder name"
   ]
  },
  {
   "cell_type": "code",
   "execution_count": 5,
   "metadata": {},
   "outputs": [
    {
     "name": "stdout",
     "output_type": "stream",
     "text": [
      "Found 4 clean CIN files for Waltham Forest in folder O:\\LIIA Data Project\\data\\cincensus\\cleaned\n"
     ]
    }
   ],
   "source": [
    "# Check there are CIN files in this folder\n",
    "cin_files = glob.glob(os.path.join(cin_cleaned, localauthority, \"*.xml\"))\n",
    "if len(cin_files)>0:\n",
    "    print(\"Found {} clean CIN files for {} in folder {}\".format(len(cin_files), localauthority, cin_cleaned))\n",
    "else:\n",
    "    print(\"!!! No CIN files for {}\".format(localauthority))"
   ]
  },
  {
   "cell_type": "markdown",
   "metadata": {},
   "source": [
    "### 1. Run programme (takes a few minutes depending on quantity of data)"
   ]
  },
  {
   "cell_type": "code",
   "execution_count": 6,
   "metadata": {},
   "outputs": [
    {
     "name": "stdout",
     "output_type": "stream",
     "text": [
      "Extracting data from file 1 out of 4 from CIN Census\n",
      "Extracting data from file 2 out of 4 from CIN Census\n",
      "Extracting data from file 3 out of 4 from CIN Census\n",
      "Extracting data from file 4 out of 4 from CIN Census\n",
      "Done!\n"
     ]
    }
   ],
   "source": [
    "# Create CIN record\n",
    "cin = build_cinrecord(cin_files)"
   ]
  },
  {
   "cell_type": "markdown",
   "metadata": {},
   "source": [
    "### 2. Quick data checks - does it look sensible?"
   ]
  },
  {
   "cell_type": "code",
   "execution_count": 7,
   "metadata": {},
   "outputs": [
    {
     "name": "stdout",
     "output_type": "stream",
     "text": [
      "\n",
      "13051 unique Child IDs \n",
      "1995-10-03 first event \n",
      "2020-03-31 last event\n",
      "\n",
      "0 missing values for Date\n",
      "\n",
      "0 missing values for LAchildID\n",
      "\n",
      "0 missing values for GenderCurrent\n",
      "\n",
      "0 missing values for Ethnicity\n",
      "\n",
      "210 missing values for Disabilities\n",
      "\n",
      "582 missing values for PersonBirthDate\n"
     ]
    }
   ],
   "source": [
    "# Print a few values - check they make sense\n",
    "\n",
    "print(\n",
    "    \"\\n{} unique Child IDs\".format(len(cin.LAchildID.unique())),\n",
    "    \"\\n{} first event\".format(cin.Date.min()),\n",
    "    \"\\n{} last event\".format(cin.Date.max())\n",
    ")\n",
    "\n",
    "for col in ['Date', 'LAchildID', 'GenderCurrent', 'Ethnicity', 'Disabilities', 'PersonBirthDate']:\n",
    "    print(\"\\n{} missing values for {}\".format(cin[col].isna().sum(), col))"
   ]
  },
  {
   "cell_type": "code",
   "execution_count": 8,
   "metadata": {},
   "outputs": [
    {
     "data": {
      "text/plain": [
       "<AxesSubplot:xlabel='Date'>"
      ]
     },
     "execution_count": 8,
     "metadata": {},
     "output_type": "execute_result"
    },
    {
     "data": {
      "image/png": "[encoded data removed]",
      "text/plain": [
       "<Figure size 720x504 with 1 Axes>"
      ]
     },
     "metadata": {
      "needs_background": "light"
     },
     "output_type": "display_data"
    }
   ],
   "source": [
    "# Look at event distribution\n",
    "cin[\"Date\"] = cin[\"Date\"].astype(\"datetime64\")\n",
    "cin.groupby(cin[\"Date\"].dt.year)['Date'].count().plot(kind=\"bar\", figsize=(10,7))"
   ]
  },
  {
   "cell_type": "markdown",
   "metadata": {},
   "source": [
    "### 3. Save to csv"
   ]
  },
  {
   "cell_type": "code",
   "execution_count": 9,
   "metadata": {},
   "outputs": [],
   "source": [
    "# Add column with LA name\n",
    "cin['LA'] = localauthority\n",
    "\n",
    "# Save\n",
    "cin.to_csv(os.path.join(flatfile_folder, \"{}_flatcin.csv\".format(localauthority)), index=False)"
   ]
  },
  {
   "cell_type": "code",
   "execution_count": null,
   "metadata": {},
   "outputs": [],
   "source": []
  }
 ],
 "metadata": {
  "kernelspec": {
   "display_name": "Python 3",
   "language": "python",
   "name": "python3"
  },
  "language_info": {
   "codemirror_mode": {
    "name": "ipython",
    "version": 3
   },
   "file_extension": ".py",
   "mimetype": "text/x-python",
   "name": "python",
   "nbconvert_exporter": "python",
   "pygments_lexer": "ipython3",
   "version": "3.8.5"
  }
 },
 "nbformat": 4,
 "nbformat_minor": 2
}
