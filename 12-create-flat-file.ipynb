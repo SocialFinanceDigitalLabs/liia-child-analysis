{
 "cells": [
  {
   "cell_type": "markdown",
   "metadata": {},
   "source": [
    "# 12-create-flat-file\n",
    "This notebook takes all the cleaned CIN Census and merges them into a unique excel csv where each row is a date event (referral, CIN start, CIN end, etc.) with demographics info and a few relevant info to the event.\n",
    "This means that there are a LOT of columns."
   ]
  },
  {
   "cell_type": "code",
   "execution_count": null,
   "metadata": {},
   "outputs": [],
   "source": [
    "import glob\n",
    "import os\n",
    "import yaml\n",
    "from wrangling.log.cin_log import build_cinrecord\n",
    "\n",
    "%run \"00-config.ipynb\"\n",
    "%load_ext autoreload\n",
    "%autoreload 2"
   ]
  },
  {
   "cell_type": "markdown",
   "metadata": {},
   "source": [
    "### Config"
   ]
  },
  {
   "cell_type": "code",
   "execution_count": null,
   "metadata": {},
   "outputs": [],
   "source": [
    "localauthority = 'Waltham Forest' # Write name of LA - this must match the folder name"
   ]
  },
  {
   "cell_type": "markdown",
   "metadata": {},
   "source": [
    "#### Define input and output folder"
   ]
  },
  {
   "cell_type": "code",
   "execution_count": null,
   "metadata": {},
   "outputs": [],
   "source": [
    "input_folder = os.path.join(cin_cleaned, localauthority)\n",
    "output_folder = flatfile_folder\n",
    "\n",
    "print(\"Input folder: {} \\nOutput folder: {}\".format(input_folder, output_folder))"
   ]
  },
  {
   "cell_type": "markdown",
   "metadata": {},
   "source": [
    "### 1. Run programme (takes a few minutes depending on quantity of data)"
   ]
  },
  {
   "cell_type": "code",
   "execution_count": null,
   "metadata": {},
   "outputs": [],
   "source": [
    "cin_files = glob.glob(os.path.join(input_folder, \"*.xml\"))\n",
    "print(\"Found {} CIN files in folder {}\".format(len(cin_files), input_folder))"
   ]
  },
  {
   "cell_type": "code",
   "execution_count": null,
   "metadata": {},
   "outputs": [],
   "source": [
    "# Create CIN record\n",
    "cin = build_cinrecord(cin_files)"
   ]
  },
  {
   "cell_type": "markdown",
   "metadata": {},
   "source": [
    "### 2. Quick data checks - does it look sensible?"
   ]
  },
  {
   "cell_type": "code",
   "execution_count": null,
   "metadata": {},
   "outputs": [],
   "source": [
    "# Print a few values - check they make sense\n",
    "\n",
    "print(\n",
    "    \"\\n{} unique Child IDs\".format(len(cin.LAchildID.unique())),\n",
    "    \"\\n{} first event\".format(cin.Date.min()),\n",
    "    \"\\n{} last event\".format(cin.Date.max())\n",
    ")\n",
    "\n",
    "for col in ['Date', 'LAchildID', 'GenderCurrent', 'Ethnicity', 'Disabilities', 'PersonBirthDate']:\n",
    "    print(\"\\n{} missing values for {}\".format(cin[col].isna().sum(), col))"
   ]
  },
  {
   "cell_type": "code",
   "execution_count": null,
   "metadata": {},
   "outputs": [],
   "source": [
    "# Look at event distribution\n",
    "cin[\"Date\"] = cin[\"Date\"].astype(\"datetime64\")\n",
    "cin.groupby(cin[\"Date\"].dt.year)['Date'].count().plot(kind=\"bar\", figsize=(10,7))"
   ]
  },
  {
   "cell_type": "markdown",
   "metadata": {},
   "source": [
    "### 3. Save to csv"
   ]
  },
  {
   "cell_type": "code",
   "execution_count": null,
   "metadata": {},
   "outputs": [],
   "source": [
    "# Add column with LA name\n",
    "cin['LA'] = localauthority\n",
    "\n",
    "# Save\n",
    "cin.to_csv(os.path.join(output_folder, \"{}_flatcin.csv\".format(localauthority)), index=False)"
   ]
  }
 ],
 "metadata": {
  "kernelspec": {
   "display_name": "Python 3",
   "language": "python",
   "name": "python3"
  },
  "language_info": {
   "codemirror_mode": {
    "name": "ipython",
    "version": 3
   },
   "file_extension": ".py",
   "mimetype": "text/x-python",
   "name": "python",
   "nbconvert_exporter": "python",
   "pygments_lexer": "ipython3",
   "version": "3.8.5"
  }
 },
 "nbformat": 4,
 "nbformat_minor": 2
}
