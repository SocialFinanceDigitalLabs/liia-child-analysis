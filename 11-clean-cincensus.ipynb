{
 "cells": [
  {
   "cell_type": "markdown",
   "metadata": {},
   "source": [
    "# 11-clean-cincensus\n",
    "\n",
    "This notebook goes through the 'degraded' CIN Census files and does simple cleaning, e.g.:\n",
    "- Removes XML tags that are empty\n",
    "- Removes dates that do not match the date format\n",
    "- Removes empty spaces before / after text\n",
    "- Etc."
   ]
  },
  {
   "cell_type": "markdown",
   "metadata": {},
   "source": [
    "TO DO - adapt the cleaner to skip degraded birthdate"
   ]
  },
  {
   "cell_type": "code",
   "execution_count": 1,
   "metadata": {},
   "outputs": [
    {
     "name": "stdout",
     "output_type": "stream",
     "text": [
      "<class 'str'>\n"
     ]
    }
   ],
   "source": [
    "import yaml\n",
    "import os\n",
    "import glob\n",
    "from wrangling.cincensus.cincleaner import cleanfiles\n",
    "\n",
    "%run \"00-config.ipynb\"\n",
    "%load_ext autoreload\n",
    "%autoreload 2"
   ]
  },
  {
   "cell_type": "markdown",
   "metadata": {},
   "source": [
    "## Config"
   ]
  },
  {
   "cell_type": "markdown",
   "metadata": {},
   "source": [
    "#### Define Local Authority"
   ]
  },
  {
   "cell_type": "code",
   "execution_count": 2,
   "metadata": {},
   "outputs": [],
   "source": [
    "localauthority = 'Waltham Forest' # Write name of LA - this must match the folder name"
   ]
  },
  {
   "cell_type": "code",
   "execution_count": 3,
   "metadata": {},
   "outputs": [
    {
     "name": "stdout",
     "output_type": "stream",
     "text": [
      "Found 4 CIN files for Waltham Forest in folder O:\\LIIA Data Project\\data\\cincensus\\degraded\n"
     ]
    }
   ],
   "source": [
    "# Check there are CIN files in this folder\n",
    "cin_files = glob.glob(os.path.join(cin_degraded, localauthority, \"*.xml\"))\n",
    "if len(cin_files)>0:\n",
    "    print(\"Found {} CIN files for {} in folder {}\".format(len(cin_files), localauthority, cin_degraded))\n",
    "else:\n",
    "    print(\"!!! No CIN files for {}\".format(localauthority))"
   ]
  },
  {
   "cell_type": "code",
   "execution_count": 4,
   "metadata": {},
   "outputs": [],
   "source": [
    "# Config file\n",
    "with open('wrangling/config/cin_datamap.yaml') as FILE:\n",
    "    config = yaml.load(FILE, Loader=yaml.FullLoader)"
   ]
  },
  {
   "cell_type": "markdown",
   "metadata": {},
   "source": [
    "## Run programme"
   ]
  },
  {
   "cell_type": "code",
   "execution_count": 5,
   "metadata": {},
   "outputs": [
    {
     "name": "stdout",
     "output_type": "stream",
     "text": [
      "File 1 out of 4\n",
      "Cleaning\n",
      "Re-writing\n",
      "File 2 out of 4\n",
      "Cleaning\n",
      "Re-writing\n",
      "File 3 out of 4\n",
      "Cleaning\n",
      "Re-writing\n",
      "File 4 out of 4\n",
      "Cleaning\n",
      "Re-writing\n",
      "Done\n"
     ]
    }
   ],
   "source": [
    "cleanfiles(cin_files, cin_cleaned, config)"
   ]
  },
  {
   "cell_type": "code",
   "execution_count": null,
   "metadata": {},
   "outputs": [],
   "source": []
  }
 ],
 "metadata": {
  "kernelspec": {
   "display_name": "Python 3",
   "language": "python",
   "name": "python3"
  },
  "language_info": {
   "codemirror_mode": {
    "name": "ipython",
    "version": 3
   },
   "file_extension": ".py",
   "mimetype": "text/x-python",
   "name": "python",
   "nbconvert_exporter": "python",
   "pygments_lexer": "ipython3",
   "version": "3.8.5"
  }
 },
 "nbformat": 4,
 "nbformat_minor": 2
}
